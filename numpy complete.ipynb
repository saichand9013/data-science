{
 "cells": [
  {
   "cell_type": "code",
   "execution_count": 1,
   "id": "d7b6f27e-10eb-4591-96d5-6cc410d5049b",
   "metadata": {},
   "outputs": [],
   "source": [
    "import numpy as np"
   ]
  },
  {
   "cell_type": "code",
   "execution_count": 11,
   "id": "1d4e2935-b90b-436f-97ba-88eefdc1b296",
   "metadata": {},
   "outputs": [
    {
     "name": "stdout",
     "output_type": "stream",
     "text": [
      "[1 2 3 4]\n"
     ]
    },
    {
     "data": {
      "text/plain": [
       "1"
      ]
     },
     "execution_count": 11,
     "metadata": {},
     "output_type": "execute_result"
    }
   ],
   "source": [
    "ar1d=np.array([1,2,3,4])\n",
    "print(ar1d)\n",
    "type(ar1d)\n",
    "np.ndim(ar1d)"
   ]
  },
  {
   "cell_type": "code",
   "execution_count": 12,
   "id": "0d558bb7-c2c5-47b4-9d46-4506ba228830",
   "metadata": {},
   "outputs": [
    {
     "name": "stdout",
     "output_type": "stream",
     "text": [
      "[[1 2 3]\n",
      " [4 5 6]\n",
      " [7 8 9]]\n"
     ]
    },
    {
     "data": {
      "text/plain": [
       "2"
      ]
     },
     "execution_count": 12,
     "metadata": {},
     "output_type": "execute_result"
    }
   ],
   "source": [
    "ar2d=np.array([[1,2,3],[4,5,6],[7,8,9]])\n",
    "print(ar2d)\n",
    "np.ndim(ar2d)\n"
   ]
  },
  {
   "cell_type": "code",
   "execution_count": 13,
   "id": "358ba06b-92d0-48da-b0de-1fa9b288667c",
   "metadata": {},
   "outputs": [
    {
     "name": "stdout",
     "output_type": "stream",
     "text": [
      "[[[1 2]\n",
      "  [3 4]\n",
      "  [5 6]]]\n"
     ]
    },
    {
     "data": {
      "text/plain": [
       "3"
      ]
     },
     "execution_count": 13,
     "metadata": {},
     "output_type": "execute_result"
    }
   ],
   "source": [
    "ar3d=np.array([[[1,2],[3,4],[5,6]]])\n",
    "print(ar3d)\n",
    "np.ndim(ar3d)"
   ]
  },
  {
   "cell_type": "markdown",
   "id": "d3bb10e2-b7af-47d6-a9b7-aea17a0a7294",
   "metadata": {},
   "source": [
    "# there are diff ways to create array"
   ]
  },
  {
   "cell_type": "code",
   "execution_count": 14,
   "id": "51a4ea23-01c3-42d4-9e58-7b036f431c01",
   "metadata": {},
   "outputs": [
    {
     "data": {
      "text/plain": [
       "array([1, 2, 3, 4])"
      ]
     },
     "execution_count": 14,
     "metadata": {},
     "output_type": "execute_result"
    }
   ],
   "source": [
    "\n",
    "# np.array([])\n",
    "arr1=np.array([1,2,3,4])\n",
    "arr1"
   ]
  },
  {
   "cell_type": "code",
   "execution_count": 15,
   "id": "5e3070a7-2fd2-44f5-b226-c34985e19113",
   "metadata": {},
   "outputs": [
    {
     "data": {
      "text/plain": [
       "array([10, 20, 30, 40, 50, 60, 70, 80, 90])"
      ]
     },
     "execution_count": 15,
     "metadata": {},
     "output_type": "execute_result"
    }
   ],
   "source": [
    "b=np.arange(10,100,10)   #using arange\n",
    "b                         #creates array from 10 to 100 with step 10"
   ]
  },
  {
   "cell_type": "code",
   "execution_count": 16,
   "id": "8e88c6ae-6ea7-42a1-a816-7fa607eb985c",
   "metadata": {},
   "outputs": [
    {
     "data": {
      "text/plain": [
       "array([ 0. ,  2.5,  5. ,  7.5, 10. ])"
      ]
     },
     "execution_count": 16,
     "metadata": {},
     "output_type": "execute_result"
    }
   ],
   "source": [
    "c=np.linspace(0,10,5) #using linspace\n",
    "c                     #5 values eveenly spaced b/w 0 to 10"
   ]
  },
  {
   "cell_type": "code",
   "execution_count": 17,
   "id": "dfa97c51-8bdb-4276-9763-fc9934dd2111",
   "metadata": {},
   "outputs": [
    {
     "data": {
      "text/plain": [
       "array([1.00000000e+00, 3.16227766e+02, 1.00000000e+05, 3.16227766e+07,\n",
       "       1.00000000e+10])"
      ]
     },
     "execution_count": 17,
     "metadata": {},
     "output_type": "execute_result"
    }
   ],
   "source": [
    "d=np.logspace(0,10,5)  #5 log values b/w 0 to 10 \n",
    "d"
   ]
  },
  {
   "cell_type": "code",
   "execution_count": 19,
   "id": "2e3cdf08-0c7b-4441-bce6-ad1344c80976",
   "metadata": {},
   "outputs": [
    {
     "data": {
      "text/plain": [
       "array([0, 0, 0, 0, 0, 0, 0, 0, 0, 0])"
      ]
     },
     "execution_count": 19,
     "metadata": {},
     "output_type": "execute_result"
    }
   ],
   "source": [
    "e=np.zeros(10,int)\n",
    "e"
   ]
  },
  {
   "cell_type": "code",
   "execution_count": 20,
   "id": "be78095a-25ca-49b3-9046-648f6c249c5d",
   "metadata": {},
   "outputs": [
    {
     "data": {
      "text/plain": [
       "array([[0., 0., 0., 0., 0.],\n",
       "       [0., 0., 0., 0., 0.],\n",
       "       [0., 0., 0., 0., 0.],\n",
       "       [0., 0., 0., 0., 0.],\n",
       "       [0., 0., 0., 0., 0.],\n",
       "       [0., 0., 0., 0., 0.],\n",
       "       [0., 0., 0., 0., 0.],\n",
       "       [0., 0., 0., 0., 0.],\n",
       "       [0., 0., 0., 0., 0.],\n",
       "       [0., 0., 0., 0., 0.]])"
      ]
     },
     "execution_count": 20,
     "metadata": {},
     "output_type": "execute_result"
    }
   ],
   "source": [
    "e=np.zeros((10,5))\n",
    "e"
   ]
  },
  {
   "cell_type": "code",
   "execution_count": 21,
   "id": "841f68f8-d107-4384-a2ae-ccd1994874f0",
   "metadata": {},
   "outputs": [
    {
     "data": {
      "text/plain": [
       "array([1, 1, 1, 1, 1])"
      ]
     },
     "execution_count": 21,
     "metadata": {},
     "output_type": "execute_result"
    }
   ],
   "source": [
    "f=np.ones(5,dtype=int)\n",
    "f"
   ]
  },
  {
   "cell_type": "code",
   "execution_count": 22,
   "id": "ca931d7b-010d-4327-97d0-2826ec82aaf8",
   "metadata": {},
   "outputs": [
    {
     "data": {
      "text/plain": [
       "array([[1., 1., 1., 1., 1.],\n",
       "       [1., 1., 1., 1., 1.],\n",
       "       [1., 1., 1., 1., 1.]])"
      ]
     },
     "execution_count": 22,
     "metadata": {},
     "output_type": "execute_result"
    }
   ],
   "source": [
    "f=np.ones((3,5))\n",
    "f"
   ]
  },
  {
   "cell_type": "code",
   "execution_count": 23,
   "id": "62f86e52-27fa-43fb-b874-f3eb7f67365f",
   "metadata": {},
   "outputs": [
    {
     "data": {
      "text/plain": [
       "array([[1., 0., 0., 0.],\n",
       "       [0., 1., 0., 0.],\n",
       "       [0., 0., 1., 0.],\n",
       "       [0., 0., 0., 1.]])"
      ]
     },
     "execution_count": 23,
     "metadata": {},
     "output_type": "execute_result"
    }
   ],
   "source": [
    "g=np.eye(4)   #prints 4x4 identity matrix\n",
    "g"
   ]
  },
  {
   "cell_type": "code",
   "execution_count": 24,
   "id": "5eebcd83-454a-4ff9-be85-dca6a4b25499",
   "metadata": {},
   "outputs": [
    {
     "data": {
      "text/plain": [
       "array([[7, 7, 7],\n",
       "       [7, 7, 7],\n",
       "       [7, 7, 7]])"
      ]
     },
     "execution_count": 24,
     "metadata": {},
     "output_type": "execute_result"
    }
   ],
   "source": [
    "full_array=np.full((3,3),7)      #prints the complete array\n",
    "full_array"
   ]
  },
  {
   "cell_type": "markdown",
   "id": "2ea7314c-c1fe-40de-8474-cb0f04f692c3",
   "metadata": {},
   "source": [
    "<!-- numpy array properties\n",
    "shape size type -->"
   ]
  },
  {
   "cell_type": "markdown",
   "id": "5da80c81-3cfe-4c60-98d4-b38683af3532",
   "metadata": {},
   "source": [
    "# properties /shape,size,type,ndim,astype"
   ]
  },
  {
   "cell_type": "code",
   "execution_count": 28,
   "id": "5043abf2-ed35-4532-9b73-c0f2287ce171",
   "metadata": {},
   "outputs": [
    {
     "name": "stdout",
     "output_type": "stream",
     "text": [
      "[[1 2 3]\n",
      " [4 5 6]]\n"
     ]
    },
    {
     "data": {
      "text/plain": [
       "(2, 3)"
      ]
     },
     "execution_count": 28,
     "metadata": {},
     "output_type": "execute_result"
    }
   ],
   "source": [
    "arr2=np.array([[1,2,3],[4,5,6]])           #shape\n",
    "print(arr2)\n",
    "arr2.shape"
   ]
  },
  {
   "cell_type": "code",
   "execution_count": 29,
   "id": "df20b18c-807c-4366-ba90-a9a1afda929f",
   "metadata": {},
   "outputs": [
    {
     "name": "stdout",
     "output_type": "stream",
     "text": [
      "[[1 2 3]\n",
      " [4 5 6]]\n"
     ]
    },
    {
     "data": {
      "text/plain": [
       "6"
      ]
     },
     "execution_count": 29,
     "metadata": {},
     "output_type": "execute_result"
    }
   ],
   "source": [
    "arr2=np.array([[1,2,3],[4,5,6]])           #size\n",
    "print(arr2)\n",
    "arr2.size"
   ]
  },
  {
   "cell_type": "code",
   "execution_count": 30,
   "id": "cf2cf3b3-852c-4ef9-99da-860a74774622",
   "metadata": {},
   "outputs": [
    {
     "name": "stdout",
     "output_type": "stream",
     "text": [
      "[[1 2 3]\n",
      " [4 5 6]]\n"
     ]
    },
    {
     "data": {
      "text/plain": [
       "2"
      ]
     },
     "execution_count": 30,
     "metadata": {},
     "output_type": "execute_result"
    }
   ],
   "source": [
    "arr2=np.array([[1,2,3],[4,5,6]])            #number of dimensions\n",
    "print(arr2)\n",
    "np.ndim(arr2)"
   ]
  },
  {
   "cell_type": "code",
   "execution_count": 32,
   "id": "f24af0be-56be-4b7b-b59f-3f8a1d9c84e8",
   "metadata": {},
   "outputs": [
    {
     "name": "stdout",
     "output_type": "stream",
     "text": [
      "[[1 2 3]\n",
      " [4 5 6]]\n"
     ]
    },
    {
     "data": {
      "text/plain": [
       "2"
      ]
     },
     "execution_count": 32,
     "metadata": {},
     "output_type": "execute_result"
    }
   ],
   "source": [
    "arr2=np.array([[1,2,3],[4,5,6]])\n",
    "print(arr2)\n",
    "arr2.ndim"
   ]
  },
  {
   "cell_type": "code",
   "execution_count": 37,
   "id": "8fa93ba1-d8e8-4740-b6b6-04dd3b1f9452",
   "metadata": {},
   "outputs": [
    {
     "name": "stdout",
     "output_type": "stream",
     "text": [
      "[[1 2 3]\n",
      " [4 5 6]]\n"
     ]
    },
    {
     "data": {
      "text/plain": [
       "dtype('int64')"
      ]
     },
     "execution_count": 37,
     "metadata": {},
     "output_type": "execute_result"
    }
   ],
   "source": [
    "arr2=np.array([[1,2,3],[4,5,6]])         #dtype\n",
    "print(arr2)\n",
    "arr2.dtype    \n"
   ]
  },
  {
   "cell_type": "code",
   "execution_count": 38,
   "id": "004bd825-83aa-4dc5-b2f0-a4b1d8a991a9",
   "metadata": {},
   "outputs": [
    {
     "name": "stdout",
     "output_type": "stream",
     "text": [
      "[[1 2 3]\n",
      " [4 5 6]]\n"
     ]
    },
    {
     "data": {
      "text/plain": [
       "array([[1., 2., 3.],\n",
       "       [4., 5., 6.]])"
      ]
     },
     "execution_count": 38,
     "metadata": {},
     "output_type": "execute_result"
    }
   ],
   "source": [
    "arr2=np.array([[1,2,3],[4,5,6]])          #change data type\n",
    "print(arr2)\n",
    "arr3=arr2.astype(float)\n",
    "arr3"
   ]
  },
  {
   "cell_type": "markdown",
   "id": "2da08d8e-94be-4d29-910a-da6f04331552",
   "metadata": {},
   "source": [
    "# mathametical functions"
   ]
  },
  {
   "cell_type": "code",
   "execution_count": 43,
   "id": "df62293b-be47-4c93-b2c3-6572eea11880",
   "metadata": {},
   "outputs": [
    {
     "name": "stdout",
     "output_type": "stream",
     "text": [
      "[ 6  7  8  9 10 11]\n",
      "[ 2  4  6  8 10 12]\n",
      "[ 1  4  9 16 25 36]\n",
      "[-4 -3 -2 -1  0  1]\n",
      "[0.5 1.  1.5 2.  2.5 3. ]\n",
      "[0 1 1 2 2 3]\n",
      "[1 0 1 0 1 0]\n"
     ]
    }
   ],
   "source": [
    "arr=np.array([1,2,3,4,5,6])\n",
    "\n",
    "print(arr+5)\n",
    "print(arr*2)\n",
    "print(arr**2)   \n",
    "print(arr-5)\n",
    "print(arr/2)\n",
    "print(arr//2)       #same all\n",
    "print(arr%2)\n"
   ]
  },
  {
   "cell_type": "markdown",
   "id": "94e30db1-f1cd-438e-b388-23014ecd8a25",
   "metadata": {},
   "source": [
    "<!-- aggregration functions   sum,mean,max,min,std,variance -->"
   ]
  },
  {
   "cell_type": "markdown",
   "id": "d1b25545-a1b3-4d79-a240-2b2c12aae019",
   "metadata": {},
   "source": [
    "# aggeragation fns sum,mean,min,max,std,var"
   ]
  },
  {
   "cell_type": "code",
   "execution_count": 41,
   "id": "38cb6265-2b41-4d19-800c-bc2150ee8859",
   "metadata": {},
   "outputs": [
    {
     "name": "stdout",
     "output_type": "stream",
     "text": [
      "21\n",
      "3.5\n",
      "1\n",
      "6\n",
      "1.707825127659933\n",
      "2.9166666666666665\n"
     ]
    }
   ],
   "source": [
    "arr=np.array([1,2,3,4,5,6])\n",
    "\n",
    "print(np.sum(arr))\n",
    "print(np.mean(arr))\n",
    "print(np.min(arr))\n",
    "print(np.max(arr))\n",
    "print(np.std(arr))\n",
    "print(np.var(arr))"
   ]
  },
  {
   "cell_type": "markdown",
   "id": "58f3aa64-536c-42dc-8b34-97778c47c3cd",
   "metadata": {},
   "source": [
    "#indexing,slicing"
   ]
  },
  {
   "cell_type": "code",
   "execution_count": 48,
   "id": "fa3e0ae8-d6cb-4506-b97b-31e5358d5b31",
   "metadata": {},
   "outputs": [
    {
     "name": "stdout",
     "output_type": "stream",
     "text": [
      "[10 40 20]\n"
     ]
    }
   ],
   "source": [
    "arr=np.array([10,20,30,40])  #accesing elements \n",
    "print(arr[2])\n",
    "\n",
    "#2d array - arr[row,column]\n",
    "#3d array - arr[2,3,4]\n",
    "\n",
    "#accesing multiple elemnts\n",
    "print(arr[[0,3,1]])"
   ]
  },
  {
   "cell_type": "code",
   "execution_count": 47,
   "id": "790dc6ea-f7b7-4bd3-ae7c-c618aabc95e7",
   "metadata": {},
   "outputs": [],
   "source": [
    "#slicing\n",
    "\n",
    "#array[start:stop:step]\n",
    "# -1 reverse array\n"
   ]
  },
  {
   "cell_type": "code",
   "execution_count": null,
   "id": "21762dc5-ad8e-4ae8-87bd-2f4bc3f95db9",
   "metadata": {},
   "outputs": [],
   "source": [
    "#reshaping"
   ]
  }
 ],
 "metadata": {
  "kernelspec": {
   "display_name": "Python 3 (ipykernel)",
   "language": "python",
   "name": "python3"
  },
  "language_info": {
   "codemirror_mode": {
    "name": "ipython",
    "version": 3
   },
   "file_extension": ".py",
   "mimetype": "text/x-python",
   "name": "python",
   "nbconvert_exporter": "python",
   "pygments_lexer": "ipython3",
   "version": "3.13.5"
  }
 },
 "nbformat": 4,
 "nbformat_minor": 5
}
