{
 "cells": [
  {
   "cell_type": "markdown",
   "id": "de5840eb-efa6-41db-bdec-31df36cbf30f",
   "metadata": {},
   "source": [
    "numpy\n"
   ]
  },
  {
   "cell_type": "code",
   "execution_count": 1,
   "id": "f6915718-7e6f-4ece-86f0-2fdb47f0e8cc",
   "metadata": {},
   "outputs": [
    {
     "data": {
      "text/plain": [
       "'2.1.3'"
      ]
     },
     "execution_count": 1,
     "metadata": {},
     "output_type": "execute_result"
    }
   ],
   "source": [
    "import numpy as np\n",
    "np.__version__"
   ]
  },
  {
   "cell_type": "code",
   "execution_count": 2,
   "id": "a3099281-c59a-4aa2-930e-fec4b8b1abca",
   "metadata": {},
   "outputs": [
    {
     "data": {
      "text/plain": [
       "[0, 1, 2, 3, 4, 5]"
      ]
     },
     "execution_count": 2,
     "metadata": {},
     "output_type": "execute_result"
    }
   ],
   "source": [
    "my_list = [0,1,2,3,4,5]\n",
    "my_list"
   ]
  },
  {
   "cell_type": "markdown",
   "id": "9f7126bf-6d8e-4e6c-ab81-0d3cb46554ae",
   "metadata": {},
   "source": [
    "converting list to array\n"
   ]
  },
  {
   "cell_type": "code",
   "execution_count": 3,
   "id": "e3b85d30-4016-4751-b85c-f6311265b70d",
   "metadata": {},
   "outputs": [
    {
     "data": {
      "text/plain": [
       "array([0, 1, 2, 3, 4, 5])"
      ]
     },
     "execution_count": 3,
     "metadata": {},
     "output_type": "execute_result"
    }
   ],
   "source": [
    "arr = np.array(my_list)\n",
    "arr"
   ]
  },
  {
   "cell_type": "markdown",
   "id": "69e40e36-7a06-459b-89cc-7d72acf78414",
   "metadata": {},
   "source": [
    "array creation"
   ]
  },
  {
   "cell_type": "code",
   "execution_count": 4,
   "id": "31cd7196-79a6-4d21-af20-eb5378a379d9",
   "metadata": {},
   "outputs": [
    {
     "data": {
      "text/plain": [
       "array([1, 2, 3])"
      ]
     },
     "execution_count": 4,
     "metadata": {},
     "output_type": "execute_result"
    }
   ],
   "source": [
    "a=np.array([1,2,3])    #using a array\n",
    "a"
   ]
  },
  {
   "cell_type": "code",
   "execution_count": 5,
   "id": "23a913b3-95d1-41c5-9590-b2f64e34afb4",
   "metadata": {},
   "outputs": [
    {
     "data": {
      "text/plain": [
       "array([10, 20, 30, 40, 50, 60, 70, 80, 90])"
      ]
     },
     "execution_count": 5,
     "metadata": {},
     "output_type": "execute_result"
    }
   ],
   "source": [
    "b=np.arange(10,100,10)   #using arange\n",
    "b                         #creates array from 10 to 100 with step 10"
   ]
  },
  {
   "cell_type": "code",
   "execution_count": 6,
   "id": "463915b0-e57d-4829-8285-78de4a83a0c2",
   "metadata": {},
   "outputs": [
    {
     "data": {
      "text/plain": [
       "array([ 0. ,  2.5,  5. ,  7.5, 10. ])"
      ]
     },
     "execution_count": 6,
     "metadata": {},
     "output_type": "execute_result"
    }
   ],
   "source": [
    "c=np.linspace(0,10,5) #using linspace\n",
    "c                     #5 values eveenly spaced b/w 0 to 10"
   ]
  },
  {
   "cell_type": "code",
   "execution_count": 7,
   "id": "e6d0388f-e62e-4bd7-a428-b180c0297fe3",
   "metadata": {},
   "outputs": [
    {
     "data": {
      "text/plain": [
       "array([1.00000000e+00, 3.16227766e+02, 1.00000000e+05, 3.16227766e+07,\n",
       "       1.00000000e+10])"
      ]
     },
     "execution_count": 7,
     "metadata": {},
     "output_type": "execute_result"
    }
   ],
   "source": [
    "d=np.logspace(0,10,5)  #5 log values b/w 0 to 10 \n",
    "d"
   ]
  },
  {
   "cell_type": "code",
   "execution_count": 8,
   "id": "6f71e47a-5d94-4cf1-8974-37685c383770",
   "metadata": {},
   "outputs": [
    {
     "data": {
      "text/plain": [
       "array([[7, 7, 7],\n",
       "       [7, 7, 7],\n",
       "       [7, 7, 7]])"
      ]
     },
     "execution_count": 8,
     "metadata": {},
     "output_type": "execute_result"
    }
   ],
   "source": [
    "full_array=np.full((3,3),7)      #prints the complete array\n",
    "full_array"
   ]
  },
  {
   "cell_type": "code",
   "execution_count": 9,
   "id": "5b821d75-54de-46e4-b366-1fd9b22b98ea",
   "metadata": {},
   "outputs": [
    {
     "data": {
      "text/plain": [
       "array([0, 0, 0, 0, 0, 0, 0, 0, 0, 0])"
      ]
     },
     "execution_count": 9,
     "metadata": {},
     "output_type": "execute_result"
    }
   ],
   "source": [
    "e=np.zeros(10,int)\n",
    "e"
   ]
  },
  {
   "cell_type": "code",
   "execution_count": 12,
   "id": "c63ddfbc-4c72-4828-900d-babfa25ce349",
   "metadata": {},
   "outputs": [
    {
     "data": {
      "text/plain": [
       "array([[0., 0., 0., 0., 0.],\n",
       "       [0., 0., 0., 0., 0.],\n",
       "       [0., 0., 0., 0., 0.],\n",
       "       [0., 0., 0., 0., 0.],\n",
       "       [0., 0., 0., 0., 0.],\n",
       "       [0., 0., 0., 0., 0.],\n",
       "       [0., 0., 0., 0., 0.],\n",
       "       [0., 0., 0., 0., 0.],\n",
       "       [0., 0., 0., 0., 0.],\n",
       "       [0., 0., 0., 0., 0.]])"
      ]
     },
     "execution_count": 12,
     "metadata": {},
     "output_type": "execute_result"
    }
   ],
   "source": [
    "e=np.zeros((10,5))\n",
    "e"
   ]
  },
  {
   "cell_type": "code",
   "execution_count": 14,
   "id": "3a6f5696-38de-4044-8b64-2bdc6a3d2524",
   "metadata": {},
   "outputs": [
    {
     "data": {
      "text/plain": [
       "array([1, 1, 1, 1, 1])"
      ]
     },
     "execution_count": 14,
     "metadata": {},
     "output_type": "execute_result"
    }
   ],
   "source": [
    "f=np.ones(5,dtype=int)\n",
    "f"
   ]
  },
  {
   "cell_type": "code",
   "execution_count": 16,
   "id": "b6074165-ab5d-4656-ac4c-9e7623f43682",
   "metadata": {},
   "outputs": [
    {
     "data": {
      "text/plain": [
       "array([[1, 1, 1, 1, 1],\n",
       "       [1, 1, 1, 1, 1],\n",
       "       [1, 1, 1, 1, 1]])"
      ]
     },
     "execution_count": 16,
     "metadata": {},
     "output_type": "execute_result"
    }
   ],
   "source": [
    "f=np.ones((3,5))\n",
    "f"
   ]
  },
  {
   "cell_type": "code",
   "execution_count": 18,
   "id": "e28f4ca1-cceb-4c1b-9e1a-4a4aa933e4f7",
   "metadata": {},
   "outputs": [
    {
     "data": {
      "text/plain": [
       "array([[1., 0., 0., 0.],\n",
       "       [0., 1., 0., 0.],\n",
       "       [0., 0., 1., 0.],\n",
       "       [0., 0., 0., 1.]])"
      ]
     },
     "execution_count": 18,
     "metadata": {},
     "output_type": "execute_result"
    }
   ],
   "source": [
    "g=np.eye(4)   #prints 4x4 identity matrix\n",
    "g"
   ]
  },
  {
   "cell_type": "markdown",
   "id": "44e88e72-86e9-4f8c-9d33-a3347c0f143b",
   "metadata": {},
   "source": [
    "arange()"
   ]
  },
  {
   "cell_type": "code",
   "execution_count": 4,
   "id": "7f2d9cb7-2c7f-4e50-a4d0-d0c3f332304a",
   "metadata": {},
   "outputs": [
    {
     "data": {
      "text/plain": [
       "array([ 0,  1,  2,  3,  4,  5,  6,  7,  8,  9, 10, 11, 12, 13, 14])"
      ]
     },
     "execution_count": 4,
     "metadata": {},
     "output_type": "execute_result"
    }
   ],
   "source": [
    " np.arange(15)"
   ]
  },
  {
   "cell_type": "code",
   "execution_count": 24,
   "id": "67bbdca6-24d7-4ba3-8a99-6edbaf32ed82",
   "metadata": {},
   "outputs": [
    {
     "data": {
      "text/plain": [
       "array([20, 19, 18, 17, 16, 15, 14, 13, 12, 11])"
      ]
     },
     "execution_count": 24,
     "metadata": {},
     "output_type": "execute_result"
    }
   ],
   "source": [
    "np.arange(20,10,-1)"
   ]
  },
  {
   "cell_type": "code",
   "execution_count": 5,
   "id": "49fc8bbc-f669-48d6-858d-85d74f771aed",
   "metadata": {},
   "outputs": [
    {
     "data": {
      "text/plain": [
       "array([0., 1., 2.])"
      ]
     },
     "execution_count": 5,
     "metadata": {},
     "output_type": "execute_result"
    }
   ],
   "source": [
    "np.arange(3.0)"
   ]
  },
  {
   "cell_type": "code",
   "execution_count": 6,
   "id": "af891cb6-e04b-47a8-adf5-09936c26e6ed",
   "metadata": {},
   "outputs": [
    {
     "data": {
      "text/plain": [
       "array([10, 11, 12, 13, 14, 15, 16, 17, 18, 19])"
      ]
     },
     "execution_count": 6,
     "metadata": {},
     "output_type": "execute_result"
    }
   ],
   "source": [
    "np.arange(10,20)"
   ]
  },
  {
   "cell_type": "code",
   "execution_count": 7,
   "id": "c9c999ae-5f86-4d76-964e-a4b20dbc401d",
   "metadata": {},
   "outputs": [
    {
     "data": {
      "text/plain": [
       "array([-10,  -9,  -8,  -7,  -6,  -5,  -4,  -3,  -2,  -1,   0,   1,   2,\n",
       "         3,   4,   5,   6,   7,   8,   9])"
      ]
     },
     "execution_count": 7,
     "metadata": {},
     "output_type": "execute_result"
    }
   ],
   "source": [
    "ar=np.arange(-10,10)\n",
    "ar"
   ]
  },
  {
   "cell_type": "code",
   "execution_count": 8,
   "id": "359d7dbf-913a-44de-8018-501efc7d6ee3",
   "metadata": {},
   "outputs": [
    {
     "data": {
      "text/plain": [
       "array([ 1,  4,  7, 10, 13, 16, 19])"
      ]
     },
     "execution_count": 8,
     "metadata": {},
     "output_type": "execute_result"
    }
   ],
   "source": [
    "np.arange(1,20,3)"
   ]
  },
  {
   "cell_type": "markdown",
   "id": "56d0e951-a2df-424f-ab8c-56b9e2ef5c59",
   "metadata": {},
   "source": [
    "zeros()"
   ]
  },
  {
   "cell_type": "code",
   "execution_count": 26,
   "id": "76ea3d55-09f9-4e3e-b32c-fc7cede6928a",
   "metadata": {},
   "outputs": [
    {
     "data": {
      "text/plain": [
       "array([0., 0., 0., 0., 0., 0., 0., 0., 0., 0.])"
      ]
     },
     "execution_count": 26,
     "metadata": {},
     "output_type": "execute_result"
    }
   ],
   "source": [
    "np.zeros(10)"
   ]
  },
  {
   "cell_type": "code",
   "execution_count": 27,
   "id": "e2a40d44-190c-45ce-9c68-9b4b29b737ec",
   "metadata": {},
   "outputs": [
    {
     "data": {
      "text/plain": [
       "array([0, 0, 0, 0, 0, 0, 0, 0, 0, 0])"
      ]
     },
     "execution_count": 27,
     "metadata": {},
     "output_type": "execute_result"
    }
   ],
   "source": [
    "np.zeros(10,dtype=int)"
   ]
  },
  {
   "cell_type": "code",
   "execution_count": 25,
   "id": "ed35221f-19ff-462f-8aaf-76dacf6038ad",
   "metadata": {},
   "outputs": [
    {
     "data": {
      "text/plain": [
       "array([0, 0, 0, 0, 0])"
      ]
     },
     "execution_count": 25,
     "metadata": {},
     "output_type": "execute_result"
    }
   ],
   "source": [
    "np.zeros(5,int)\n"
   ]
  },
  {
   "cell_type": "code",
   "execution_count": 16,
   "id": "e7e079ed-af05-4d0e-9958-604408ce9672",
   "metadata": {},
   "outputs": [
    {
     "name": "stdout",
     "output_type": "stream",
     "text": [
      "[[0 0 0 0 0 0 0 0 0 0]\n",
      " [0 0 0 0 0 0 0 0 0 0]]\n"
     ]
    },
    {
     "data": {
      "text/plain": [
       "numpy.ndarray"
      ]
     },
     "execution_count": 16,
     "metadata": {},
     "output_type": "execute_result"
    }
   ],
   "source": [
    "zr=np.zeros((2,10),int)\n",
    "print(zr)\n",
    "type(zr)"
   ]
  },
  {
   "cell_type": "code",
   "execution_count": 14,
   "id": "9cb7f155-2e3c-434c-8f8e-9c01ee8d10e8",
   "metadata": {},
   "outputs": [
    {
     "data": {
      "text/plain": [
       "array([[0, 0, 0, 0, 0, 0, 0, 0, 0, 0],\n",
       "       [0, 0, 0, 0, 0, 0, 0, 0, 0, 0],\n",
       "       [0, 0, 0, 0, 0, 0, 0, 0, 0, 0],\n",
       "       [0, 0, 0, 0, 0, 0, 0, 0, 0, 0],\n",
       "       [0, 0, 0, 0, 0, 0, 0, 0, 0, 0],\n",
       "       [0, 0, 0, 0, 0, 0, 0, 0, 0, 0],\n",
       "       [0, 0, 0, 0, 0, 0, 0, 0, 0, 0],\n",
       "       [0, 0, 0, 0, 0, 0, 0, 0, 0, 0]])"
      ]
     },
     "execution_count": 14,
     "metadata": {},
     "output_type": "execute_result"
    }
   ],
   "source": [
    "np.zeros((8,10),int)"
   ]
  },
  {
   "cell_type": "markdown",
   "id": "d2f15add-9d4d-4b48-830c-2d247fc9e190",
   "metadata": {},
   "source": [
    "ones()"
   ]
  },
  {
   "cell_type": "code",
   "execution_count": 22,
   "id": "9cd67c90-52bb-460a-a0b1-ac956086231e",
   "metadata": {},
   "outputs": [
    {
     "name": "stdout",
     "output_type": "stream",
     "text": [
      "[1. 1.]\n"
     ]
    }
   ],
   "source": [
    "on=ones(2)\n",
    "print(on)"
   ]
  },
  {
   "cell_type": "code",
   "execution_count": 23,
   "id": "ba2e7cfa-8e6c-4b0e-bf5d-a060c3146df7",
   "metadata": {},
   "outputs": [
    {
     "data": {
      "text/plain": [
       "array([1., 1., 1., 1., 1.])"
      ]
     },
     "execution_count": 23,
     "metadata": {},
     "output_type": "execute_result"
    }
   ],
   "source": [
    "ones(5)"
   ]
  },
  {
   "cell_type": "code",
   "execution_count": 4,
   "id": "f67fa40b-5120-4612-afb9-4d6397e6cd24",
   "metadata": {},
   "outputs": [
    {
     "ename": "NameError",
     "evalue": "name 'rand' is not defined",
     "output_type": "error",
     "traceback": [
      "\u001b[1;31m---------------------------------------------------------------------------\u001b[0m",
      "\u001b[1;31mNameError\u001b[0m                                 Traceback (most recent call last)",
      "Cell \u001b[1;32mIn[4], line 1\u001b[0m\n\u001b[1;32m----> 1\u001b[0m rand(\u001b[38;5;241m3\u001b[39m,\u001b[38;5;241m2\u001b[39m)\n\u001b[0;32m      2\u001b[0m random\u001b[38;5;241m.\u001b[39mrand(\u001b[38;5;241m5\u001b[39m)\n",
      "\u001b[1;31mNameError\u001b[0m: name 'rand' is not defined"
     ]
    }
   ],
   "source": [
    "rand(3,2)\n",
    "random.rand(5) "
   ]
  },
  {
   "cell_type": "code",
   "execution_count": 28,
   "id": "31e78582-02d5-4b36-84b5-b145b58f1699",
   "metadata": {},
   "outputs": [
    {
     "data": {
      "text/plain": [
       "array([0.63657989, 0.23096409, 0.23523941, 0.71678777, 0.37406139])"
      ]
     },
     "execution_count": 28,
     "metadata": {},
     "output_type": "execute_result"
    }
   ],
   "source": [
    "np.random.rand(5)"
   ]
  },
  {
   "cell_type": "code",
   "execution_count": 34,
   "id": "e96d573d-e2f7-4c74-b9cd-fc61c73a7ec3",
   "metadata": {},
   "outputs": [
    {
     "data": {
      "text/plain": [
       "array([[0.87827307, 0.81457407, 0.19933667, 0.58641131, 0.83167471],\n",
       "       [0.16254928, 0.03511103, 0.86853969, 0.20616712, 0.43548556],\n",
       "       [0.7799418 , 0.30436281, 0.23986636, 0.09379922, 0.3788668 ]])"
      ]
     },
     "execution_count": 34,
     "metadata": {},
     "output_type": "execute_result"
    }
   ],
   "source": [
    "np.random.rand(3,5)    #prints 3*5 matrix"
   ]
  },
  {
   "cell_type": "code",
   "execution_count": 21,
   "id": "68afc46c-dc57-4f84-aaf1-1bddd3ae529d",
   "metadata": {},
   "outputs": [
    {
     "data": {
      "text/plain": [
       "array([4, 3], dtype=int32)"
      ]
     },
     "execution_count": 21,
     "metadata": {},
     "output_type": "execute_result"
    }
   ],
   "source": [
    "np.random.randint(2,6,2)"
   ]
  },
  {
   "cell_type": "code",
   "execution_count": 30,
   "id": "c8c62a3b-7bed-4071-aad4-c31f72f14437",
   "metadata": {},
   "outputs": [
    {
     "data": {
      "text/plain": [
       "12"
      ]
     },
     "execution_count": 30,
     "metadata": {},
     "output_type": "execute_result"
    }
   ],
   "source": [
    "np.random.randint(2,20)"
   ]
  },
  {
   "cell_type": "code",
   "execution_count": 3,
   "id": "db9ec6a6-6e5b-4bcc-8245-6356c1d8ec75",
   "metadata": {},
   "outputs": [
    {
     "data": {
      "text/plain": [
       "7"
      ]
     },
     "execution_count": 3,
     "metadata": {},
     "output_type": "execute_result"
    }
   ],
   "source": [
    "np.random.randint(5,9)"
   ]
  },
  {
   "cell_type": "code",
   "execution_count": 4,
   "id": "dc99e8bb-2be2-4e0d-bca7-e01b0972995a",
   "metadata": {},
   "outputs": [
    {
     "data": {
      "text/plain": [
       "array([[32, 29, 24, 38, 28, 15, 22, 16, 32, 11],\n",
       "       [10, 37, 33, 23, 37, 16, 11, 31, 20, 24],\n",
       "       [27, 38, 38, 18, 12, 37, 10, 37, 11, 17],\n",
       "       [23, 20, 16, 38, 14, 25, 39, 24, 19, 33],\n",
       "       [19, 12, 20, 34, 23, 22, 24, 14, 30, 26],\n",
       "       [26, 23, 26, 16, 32, 37, 33, 13, 24, 31],\n",
       "       [19, 20, 27, 24, 22, 18, 34, 13, 31, 26],\n",
       "       [38, 24, 22, 10, 19, 29, 32, 26, 18, 10],\n",
       "       [32, 13, 20, 14, 27, 26, 35, 14, 31, 29],\n",
       "       [28, 36, 28, 38, 30, 32, 29, 22, 37, 26]], dtype=int32)"
      ]
     },
     "execution_count": 4,
     "metadata": {},
     "output_type": "execute_result"
    }
   ],
   "source": [
    "np.random.randint(10,40,(10,10))   #generates the element b/w 10 to 40 10*10 matrix"
   ]
  },
  {
   "cell_type": "markdown",
   "id": "34615cf2-039c-4152-b213-0d389f97d2f6",
   "metadata": {},
   "source": [
    "shape"
   ]
  },
  {
   "cell_type": "code",
   "execution_count": 19,
   "id": "50bf9ce9-3e33-4d66-a730-bc10ab40a834",
   "metadata": {},
   "outputs": [
    {
     "name": "stdout",
     "output_type": "stream",
     "text": [
      "[[1 2 3]\n",
      " [4 5 6]]\n"
     ]
    },
    {
     "data": {
      "text/plain": [
       "(2, 3)"
      ]
     },
     "execution_count": 19,
     "metadata": {},
     "output_type": "execute_result"
    }
   ],
   "source": [
    "arr2d=np.array([[1,2,3],[4,5,6]])\n",
    "print(arr2d)\n",
    "arr2d.shape\n"
   ]
  },
  {
   "cell_type": "markdown",
   "id": "a8571603-274f-42df-b43f-b3265388089e",
   "metadata": {},
   "source": [
    "size"
   ]
  },
  {
   "cell_type": "code",
   "execution_count": 10,
   "id": "2afbe017-5464-4e13-9911-04da6d73fa84",
   "metadata": {},
   "outputs": [
    {
     "data": {
      "text/plain": [
       "6"
      ]
     },
     "execution_count": 10,
     "metadata": {},
     "output_type": "execute_result"
    }
   ],
   "source": [
    "arr2d=np.array([[1,2,3],[4,5,6]])\n",
    "arr2d.size                      #prints number of elements"
   ]
  },
  {
   "cell_type": "markdown",
   "id": "51235c38-538f-49d8-b56c-1b34ea4e2625",
   "metadata": {},
   "source": [
    "ndim"
   ]
  },
  {
   "cell_type": "code",
   "execution_count": 13,
   "id": "c66e5bfb-7377-4a30-b37f-65c1f36ee71b",
   "metadata": {},
   "outputs": [
    {
     "name": "stdout",
     "output_type": "stream",
     "text": [
      "1\n",
      "2\n",
      "3\n"
     ]
    }
   ],
   "source": [
    "arr1=np.array([1,2,3])\n",
    "arr2=np.array([[1,2,3],[4,5,6]])\n",
    "arr3=np.array([[[1,2],[3,4],[5,6],[7,8]]])\n",
    "print(arr1.ndim)\n",
    "print(arr2.ndim)           #prints the number of dimensions\n",
    "print(arr3.ndim)\n"
   ]
  },
  {
   "cell_type": "markdown",
   "id": "11b1bd0f-1c5a-49c7-87ce-ec17c5acb901",
   "metadata": {},
   "source": [
    "dtype"
   ]
  },
  {
   "cell_type": "code",
   "execution_count": 14,
   "id": "c0693ede-d3b0-471e-9ed8-fbf8aa191b0b",
   "metadata": {},
   "outputs": [
    {
     "data": {
      "text/plain": [
       "dtype('int64')"
      ]
     },
     "execution_count": 14,
     "metadata": {},
     "output_type": "execute_result"
    }
   ],
   "source": [
    "arr=np.array([10,20,30,40])\n",
    "arr.dtype         #prints the type of data"
   ]
  },
  {
   "cell_type": "code",
   "execution_count": 18,
   "id": "1577e7cd-c9e2-4913-9205-106386b50a9c",
   "metadata": {},
   "outputs": [
    {
     "name": "stdout",
     "output_type": "stream",
     "text": [
      "[1 2 3]\n"
     ]
    }
   ],
   "source": [
    "arr=np.array([1.2,2.3,3.4])\n",
    "int_arr=arr.astype(int)\n",
    "print(int_arr)"
   ]
  },
  {
   "cell_type": "code",
   "execution_count": 31,
   "id": "78fc41a2-3e39-4b82-bb0a-153c1266c3c6",
   "metadata": {},
   "outputs": [
    {
     "data": {
      "text/plain": [
       "array([1., 2., 3., 4.])"
      ]
     },
     "execution_count": 31,
     "metadata": {},
     "output_type": "execute_result"
    }
   ],
   "source": [
    "np.array([1,2,3,4],dtype=float)"
   ]
  },
  {
   "cell_type": "code",
   "execution_count": 32,
   "id": "2e8fa170-9366-4af8-a315-f480ea6dbf77",
   "metadata": {},
   "outputs": [
    {
     "data": {
      "text/plain": [
       "array([1., 2., 3., 4.])"
      ]
     },
     "execution_count": 32,
     "metadata": {},
     "output_type": "execute_result"
    }
   ],
   "source": [
    "np.array([1,2,3,4],float)"
   ]
  },
  {
   "cell_type": "markdown",
   "id": "70298c44-eaf5-4879-9444-093579939fd4",
   "metadata": {},
   "source": [
    "reshape()\n"
   ]
  },
  {
   "cell_type": "code",
   "execution_count": 5,
   "id": "57c38eb8-364e-4c09-a978-28f0fa99ea09",
   "metadata": {},
   "outputs": [
    {
     "data": {
      "text/plain": [
       "array([ 1,  2,  3,  4,  5,  6,  7,  8,  9, 10, 11, 12])"
      ]
     },
     "execution_count": 5,
     "metadata": {},
     "output_type": "execute_result"
    }
   ],
   "source": [
    "np.arange(1,13)"
   ]
  },
  {
   "cell_type": "code",
   "execution_count": 5,
   "id": "c1cb032a-64d7-4f62-8598-f3c4c6c3346f",
   "metadata": {},
   "outputs": [
    {
     "data": {
      "text/plain": [
       "array([[ 1,  2,  3,  4],\n",
       "       [ 5,  6,  7,  8],\n",
       "       [ 9, 10, 11, 12]])"
      ]
     },
     "execution_count": 5,
     "metadata": {},
     "output_type": "execute_result"
    }
   ],
   "source": [
    "np.arange(1,13).reshape(3,4)"
   ]
  },
  {
   "cell_type": "code",
   "execution_count": 8,
   "id": "103eed6d-e21b-41b5-9f1b-5197fe0ef5c3",
   "metadata": {},
   "outputs": [
    {
     "data": {
      "text/plain": [
       "array([[ 1,  2,  3,  4],\n",
       "       [ 5,  6,  7,  8],\n",
       "       [ 9, 10, 11, 12]])"
      ]
     },
     "execution_count": 8,
     "metadata": {},
     "output_type": "execute_result"
    }
   ],
   "source": [
    "np.arange(1,13).reshape(3,4)"
   ]
  },
  {
   "cell_type": "code",
   "execution_count": 33,
   "id": "245e68d1-4856-4939-9ceb-a6e8cc06d581",
   "metadata": {},
   "outputs": [
    {
     "data": {
      "text/plain": [
       "array([[ 1,  2],\n",
       "       [ 3,  4],\n",
       "       [ 5,  6],\n",
       "       [ 7,  8],\n",
       "       [ 9, 10],\n",
       "       [11, 12]])"
      ]
     },
     "execution_count": 33,
     "metadata": {},
     "output_type": "execute_result"
    }
   ],
   "source": [
    "np.arange(1,13).reshape(6,2)      #the reshape should match the no of elements"
   ]
  },
  {
   "cell_type": "code",
   "execution_count": 43,
   "id": "d8d0ddfc-747d-4b41-9fe4-6f311705ed1c",
   "metadata": {},
   "outputs": [
    {
     "name": "stdout",
     "output_type": "stream",
     "text": [
      "[ 0  1  2  3  4  5  6  7  8  9 10 11 12 13 14 15 16 17 18 19 20 21 22 23\n",
      " 24 25 26 27 28 29 30 31 32 33 34 35 36 37 38 39 40 41 42 43 44 45 46 47]\n"
     ]
    },
    {
     "data": {
      "text/plain": [
       "array([[[ 0,  1,  2,  3,  4,  5],\n",
       "        [ 6,  7,  8,  9, 10, 11],\n",
       "        [12, 13, 14, 15, 16, 17],\n",
       "        [18, 19, 20, 21, 22, 23]],\n",
       "\n",
       "       [[24, 25, 26, 27, 28, 29],\n",
       "        [30, 31, 32, 33, 34, 35],\n",
       "        [36, 37, 38, 39, 40, 41],\n",
       "        [42, 43, 44, 45, 46, 47]]])"
      ]
     },
     "execution_count": 43,
     "metadata": {},
     "output_type": "execute_result"
    }
   ],
   "source": [
    "arr=np.arange(48)\n",
    "print(arr)                  #1d tp 3d\n",
    "newarr=arr.reshape(2,4,6)\n",
    "newarr"
   ]
  },
  {
   "cell_type": "code",
   "execution_count": null,
   "id": "78eb6e22-2d5e-45cc-ab5e-00cc54ffd16a",
   "metadata": {},
   "outputs": [],
   "source": []
  },
  {
   "cell_type": "code",
   "execution_count": 16,
   "id": "3f194faa-5bea-41db-b746-e432484a8ec7",
   "metadata": {},
   "outputs": [
    {
     "data": {
      "text/plain": [
       "array([0, 1, 2, 3, 4, 5])"
      ]
     },
     "execution_count": 16,
     "metadata": {},
     "output_type": "execute_result"
    }
   ],
   "source": [
    "arr=np.arange(6)\n",
    "arr"
   ]
  },
  {
   "cell_type": "code",
   "execution_count": null,
   "id": "18322a00-ad2b-41ef-9015-cfdab053d06c",
   "metadata": {},
   "outputs": [],
   "source": []
  },
  {
   "cell_type": "markdown",
   "id": "6656fcf6-6aaa-4e6b-a24d-eed9c3154d8d",
   "metadata": {},
   "source": [
    " slicing in matrix()"
   ]
  },
  {
   "cell_type": "code",
   "execution_count": 16,
   "id": "01cdce32-69fd-467e-84a6-c0d359611575",
   "metadata": {},
   "outputs": [
    {
     "data": {
      "text/plain": [
       "array([[16, 19, 18, 18],\n",
       "       [10, 15, 13, 17],\n",
       "       [10, 15, 16, 16],\n",
       "       [16, 15, 10, 13],\n",
       "       [16, 19, 10, 12]], dtype=int32)"
      ]
     },
     "execution_count": 16,
     "metadata": {},
     "output_type": "execute_result"
    }
   ],
   "source": [
    "b=np.random.randint(10,20,(5,4))\n",
    "b"
   ]
  },
  {
   "cell_type": "code",
   "execution_count": 17,
   "id": "1d6dec83-bbc5-42b2-8890-c2015076a19e",
   "metadata": {},
   "outputs": [
    {
     "data": {
      "text/plain": [
       "array([[16, 19, 18, 18],\n",
       "       [10, 15, 13, 17],\n",
       "       [10, 15, 16, 16],\n",
       "       [16, 15, 10, 13],\n",
       "       [16, 19, 10, 12]], dtype=int32)"
      ]
     },
     "execution_count": 17,
     "metadata": {},
     "output_type": "execute_result"
    }
   ],
   "source": [
    "b[:]"
   ]
  },
  {
   "cell_type": "code",
   "execution_count": 21,
   "id": "5dee0df0-abe7-431f-bc5f-2327ad5dd196",
   "metadata": {},
   "outputs": [
    {
     "data": {
      "text/plain": [
       "array([[10, 15, 13, 17]], dtype=int32)"
      ]
     },
     "execution_count": 21,
     "metadata": {},
     "output_type": "execute_result"
    }
   ],
   "source": [
    "b[1:2]          #display few elements"
   ]
  },
  {
   "cell_type": "code",
   "execution_count": 22,
   "id": "e79cac3a-90bc-4437-b816-b02c6261514c",
   "metadata": {},
   "outputs": [
    {
     "data": {
      "text/plain": [
       "np.int32(13)"
      ]
     },
     "execution_count": 22,
     "metadata": {},
     "output_type": "execute_result"
    }
   ],
   "source": [
    "b[1,2]          #displays a specfic value"
   ]
  },
  {
   "cell_type": "code",
   "execution_count": 23,
   "id": "3d5c1747-bac9-4418-b53e-7081f707d795",
   "metadata": {},
   "outputs": [
    {
     "data": {
      "text/plain": [
       "np.int32(17)"
      ]
     },
     "execution_count": 23,
     "metadata": {},
     "output_type": "execute_result"
    }
   ],
   "source": [
    "b[1,-1]"
   ]
  },
  {
   "cell_type": "markdown",
   "id": "585fc2aa-c302-488a-8db8-4c8f7794ab92",
   "metadata": {},
   "source": [
    "operations\n"
   ]
  },
  {
   "cell_type": "code",
   "execution_count": 28,
   "id": "e758f72f-ef98-4f9c-8628-0abc862bd121",
   "metadata": {},
   "outputs": [
    {
     "data": {
      "text/plain": [
       "array([0, 1, 2, 3, 4, 5])"
      ]
     },
     "execution_count": 28,
     "metadata": {},
     "output_type": "execute_result"
    }
   ],
   "source": [
    "arr=np.arange(6)\n",
    "arr"
   ]
  },
  {
   "cell_type": "code",
   "execution_count": 30,
   "id": "4b55d054-b035-4be1-8f0e-18712f481e31",
   "metadata": {},
   "outputs": [
    {
     "data": {
      "text/plain": [
       "array([[84, 99, 64, 96, 41, 40, 83, 38,  1, 30],\n",
       "       [38, 68, 65, 85, 66, 75, 43, 23, 44, 40],\n",
       "       [20, 25, 82, 40, 44, 63, 89, 61, 95, 66],\n",
       "       [ 8,  4, 42, 26, 45, 38,  9, 71, 70, 70],\n",
       "       [ 1, 25, 95, 89, 68,  0, 48, 46, 85, 46],\n",
       "       [96, 60, 90, 99, 22, 96, 45, 88,  2, 87],\n",
       "       [88, 69,  7, 45, 17, 78, 14, 79, 10, 55],\n",
       "       [82, 97, 80, 77, 13, 59, 69, 12, 15, 93],\n",
       "       [11, 45, 26, 72, 59, 55, 15, 82, 28, 34],\n",
       "       [81, 11, 39, 84, 86, 84, 16, 70, 35, 37]], dtype=int32)"
      ]
     },
     "execution_count": 30,
     "metadata": {},
     "output_type": "execute_result"
    }
   ],
   "source": [
    "arr2=np.random.randint(0,100,(10,10))\n",
    "arr2"
   ]
  },
  {
   "cell_type": "code",
   "execution_count": 31,
   "id": "a74a94ac-fc7e-4685-baa8-045453fb7afe",
   "metadata": {},
   "outputs": [
    {
     "data": {
      "text/plain": [
       "array([[84, 99, 64, 96, 41, 40, 83, 38,  1, 30],\n",
       "       [38, 68, 65, 85, 66, 75, 43, 23, 44, 40],\n",
       "       [20, 25, 82, 40, 44, 63, 89, 61, 95, 66],\n",
       "       [ 8,  4, 42, 26, 45, 38,  9, 71, 70, 70],\n",
       "       [ 1, 25, 95, 89, 68,  0, 48, 46, 85, 46],\n",
       "       [96, 60, 90, 99, 22, 96, 45, 88,  2, 87],\n",
       "       [88, 69,  7, 45, 17, 78, 14, 79, 10, 55],\n",
       "       [82, 97, 80, 77, 13, 59, 69, 12, 15, 93],\n",
       "       [11, 45, 26, 72, 59, 55, 15, 82, 28, 34],\n",
       "       [81, 11, 39, 84, 86, 84, 16, 70, 35, 37]], dtype=int32)"
      ]
     },
     "execution_count": 31,
     "metadata": {},
     "output_type": "execute_result"
    }
   ],
   "source": [
    "arr2[:]"
   ]
  },
  {
   "cell_type": "code",
   "execution_count": 32,
   "id": "d1815e4c-b03b-4d46-97c7-7671f99e5c9f",
   "metadata": {},
   "outputs": [
    {
     "data": {
      "text/plain": [
       "array([[81, 11, 39, 84, 86, 84, 16, 70, 35, 37],\n",
       "       [11, 45, 26, 72, 59, 55, 15, 82, 28, 34],\n",
       "       [82, 97, 80, 77, 13, 59, 69, 12, 15, 93],\n",
       "       [88, 69,  7, 45, 17, 78, 14, 79, 10, 55],\n",
       "       [96, 60, 90, 99, 22, 96, 45, 88,  2, 87],\n",
       "       [ 1, 25, 95, 89, 68,  0, 48, 46, 85, 46],\n",
       "       [ 8,  4, 42, 26, 45, 38,  9, 71, 70, 70],\n",
       "       [20, 25, 82, 40, 44, 63, 89, 61, 95, 66],\n",
       "       [38, 68, 65, 85, 66, 75, 43, 23, 44, 40],\n",
       "       [84, 99, 64, 96, 41, 40, 83, 38,  1, 30]], dtype=int32)"
      ]
     },
     "execution_count": 32,
     "metadata": {},
     "output_type": "execute_result"
    }
   ],
   "source": [
    " arr2[::-1]           #prints the rows in reverse"
   ]
  },
  {
   "cell_type": "code",
   "execution_count": 35,
   "id": "fb8b5893-11c2-496c-92c8-83ed38b054b3",
   "metadata": {},
   "outputs": [
    {
     "data": {
      "text/plain": [
       "array([[84, 99, 64, 96, 41, 40, 83, 38,  1, 30],\n",
       "       [38, 68, 65, 85, 66, 75, 43, 23, 44, 40],\n",
       "       [20, 25, 82, 40, 44, 63, 89, 61, 95, 66],\n",
       "       [ 8,  4, 42, 26, 45, 38,  9, 71, 70, 70],\n",
       "       [ 1, 25, 95, 89, 68,  0, 48, 46, 85, 46],\n",
       "       [96, 60, 90, 99, 22, 96, 45, 88,  2, 87],\n",
       "       [88, 69,  7, 45, 17, 78, 14, 79, 10, 55],\n",
       "       [82, 97, 80, 77, 13, 59, 69, 12, 15, 93],\n",
       "       [11, 45, 26, 72, 59, 55, 15, 82, 28, 34],\n",
       "       [81, 11, 39, 84, 86, 84, 16, 70, 35, 37]], dtype=int32)"
      ]
     },
     "execution_count": 35,
     "metadata": {},
     "output_type": "execute_result"
    }
   ],
   "source": [
    "arr2"
   ]
  },
  {
   "cell_type": "code",
   "execution_count": 36,
   "id": "55d17519-bd7c-415f-96b0-eeef3e1e9c42",
   "metadata": {},
   "outputs": [
    {
     "data": {
      "text/plain": [
       "array([[81, 11, 39, 84, 86, 84, 16, 70, 35, 37],\n",
       "       [82, 97, 80, 77, 13, 59, 69, 12, 15, 93],\n",
       "       [96, 60, 90, 99, 22, 96, 45, 88,  2, 87],\n",
       "       [ 8,  4, 42, 26, 45, 38,  9, 71, 70, 70],\n",
       "       [38, 68, 65, 85, 66, 75, 43, 23, 44, 40]], dtype=int32)"
      ]
     },
     "execution_count": 36,
     "metadata": {},
     "output_type": "execute_result"
    }
   ],
   "source": [
    "arr2[::-2]"
   ]
  },
  {
   "cell_type": "code",
   "execution_count": 37,
   "id": "8fb0fadf-dbdf-47b4-a9f7-a566a5b741df",
   "metadata": {},
   "outputs": [
    {
     "data": {
      "text/plain": [
       "array([[81, 11, 39, 84, 86, 84, 16, 70, 35, 37],\n",
       "       [88, 69,  7, 45, 17, 78, 14, 79, 10, 55],\n",
       "       [ 8,  4, 42, 26, 45, 38,  9, 71, 70, 70],\n",
       "       [84, 99, 64, 96, 41, 40, 83, 38,  1, 30]], dtype=int32)"
      ]
     },
     "execution_count": 37,
     "metadata": {},
     "output_type": "execute_result"
    }
   ],
   "source": [
    "arr2[::-3]"
   ]
  },
  {
   "cell_type": "code",
   "execution_count": 38,
   "id": "53c48693-66c6-4888-a6d1-e87ac4fd8d61",
   "metadata": {},
   "outputs": [
    {
     "data": {
      "text/plain": [
       "np.int64(5)"
      ]
     },
     "execution_count": 38,
     "metadata": {},
     "output_type": "execute_result"
    }
   ],
   "source": [
    "arr.max()"
   ]
  },
  {
   "cell_type": "code",
   "execution_count": 39,
   "id": "c1f55d60-9227-4603-90c6-d8112d89c942",
   "metadata": {},
   "outputs": [
    {
     "data": {
      "text/plain": [
       "np.int64(0)"
      ]
     },
     "execution_count": 39,
     "metadata": {},
     "output_type": "execute_result"
    }
   ],
   "source": [
    "arr.min()"
   ]
  },
  {
   "cell_type": "code",
   "execution_count": 40,
   "id": "ffa5bc07-c507-4e75-8d61-b803c63dd295",
   "metadata": {},
   "outputs": [
    {
     "data": {
      "text/plain": [
       "np.float64(2.5)"
      ]
     },
     "execution_count": 40,
     "metadata": {},
     "output_type": "execute_result"
    }
   ],
   "source": [
    "arr.mean()"
   ]
  },
  {
   "cell_type": "code",
   "execution_count": 17,
   "id": "082ebe6a-b601-4a73-b0ed-abe243ceaa71",
   "metadata": {},
   "outputs": [],
   "source": [
    "mat = np.arange(0,100).reshape(10,10)"
   ]
  },
  {
   "cell_type": "code",
   "execution_count": 18,
   "id": "c9563744-41b3-4250-9d6a-33e27c1f35b1",
   "metadata": {},
   "outputs": [
    {
     "data": {
      "text/plain": [
       "array([[ 0,  1,  2,  3,  4,  5,  6,  7,  8,  9],\n",
       "       [10, 11, 12, 13, 14, 15, 16, 17, 18, 19],\n",
       "       [20, 21, 22, 23, 24, 25, 26, 27, 28, 29],\n",
       "       [30, 31, 32, 33, 34, 35, 36, 37, 38, 39],\n",
       "       [40, 41, 42, 43, 44, 45, 46, 47, 48, 49],\n",
       "       [50, 51, 52, 53, 54, 55, 56, 57, 58, 59],\n",
       "       [60, 61, 62, 63, 64, 65, 66, 67, 68, 69],\n",
       "       [70, 71, 72, 73, 74, 75, 76, 77, 78, 79],\n",
       "       [80, 81, 82, 83, 84, 85, 86, 87, 88, 89],\n",
       "       [90, 91, 92, 93, 94, 95, 96, 97, 98, 99]])"
      ]
     },
     "execution_count": 18,
     "metadata": {},
     "output_type": "execute_result"
    }
   ],
   "source": [
    "mat"
   ]
  },
  {
   "cell_type": "code",
   "execution_count": 19,
   "id": "7a2c6e6a-f76f-43f8-87d2-b6b34a0023ec",
   "metadata": {},
   "outputs": [],
   "source": [
    "row=4\n",
    "col=5"
   ]
  },
  {
   "cell_type": "code",
   "execution_count": 20,
   "id": "f93865a4-2415-48ca-932d-29953320099b",
   "metadata": {},
   "outputs": [
    {
     "data": {
      "text/plain": [
       "4"
      ]
     },
     "execution_count": 20,
     "metadata": {},
     "output_type": "execute_result"
    }
   ],
   "source": [
    "row"
   ]
  },
  {
   "cell_type": "code",
   "execution_count": 21,
   "id": "3bbbf0cd-36e2-49ef-9207-80a5f6c0bde4",
   "metadata": {},
   "outputs": [
    {
     "data": {
      "text/plain": [
       "5"
      ]
     },
     "execution_count": 21,
     "metadata": {},
     "output_type": "execute_result"
    }
   ],
   "source": [
    "col"
   ]
  },
  {
   "cell_type": "code",
   "execution_count": 22,
   "id": "3ec6c960-8e65-4dff-8915-30089db93e99",
   "metadata": {},
   "outputs": [
    {
     "data": {
      "text/plain": [
       "np.int64(45)"
      ]
     },
     "execution_count": 22,
     "metadata": {},
     "output_type": "execute_result"
    }
   ],
   "source": [
    "mat[row,col]"
   ]
  },
  {
   "cell_type": "code",
   "execution_count": 23,
   "id": "fff74323-be25-4b31-9fba-2a9371b99a7e",
   "metadata": {},
   "outputs": [
    {
     "data": {
      "text/plain": [
       "array([60, 61, 62, 63, 64, 65, 66, 67, 68, 69])"
      ]
     },
     "execution_count": 23,
     "metadata": {},
     "output_type": "execute_result"
    }
   ],
   "source": [
    "mat[6]    #by default it prints the rows"
   ]
  },
  {
   "cell_type": "code",
   "execution_count": 24,
   "id": "bbedc10b-2800-43cc-a133-89e96ff01a8e",
   "metadata": {},
   "outputs": [
    {
     "data": {
      "text/plain": [
       "array([ 5, 15, 25, 35, 45, 55, 65, 75, 85, 95])"
      ]
     },
     "execution_count": 24,
     "metadata": {},
     "output_type": "execute_result"
    }
   ],
   "source": [
    "mat[:,col]   "
   ]
  },
  {
   "cell_type": "code",
   "execution_count": 25,
   "id": "924ccdd9-c7ec-458e-8fa6-39817472e7dd",
   "metadata": {},
   "outputs": [
    {
     "data": {
      "text/plain": [
       "array([[22, 23],\n",
       "       [32, 33],\n",
       "       [42, 43],\n",
       "       [52, 53]])"
      ]
     },
     "execution_count": 25,
     "metadata": {},
     "output_type": "execute_result"
    }
   ],
   "source": [
    "mat[2:6,2:4]"
   ]
  },
  {
   "cell_type": "markdown",
   "id": "ce4cfc23-4133-4dcd-a226-59d66f4b0a68",
   "metadata": {},
   "source": [
    "iterating"
   ]
  },
  {
   "cell_type": "code",
   "execution_count": 26,
   "id": "62d5e0b0-3a0c-4c9f-81f2-8bed70b0e8f5",
   "metadata": {},
   "outputs": [],
   "source": [
    "arr=np.array([1,2,3])   #iterating through 1d array"
   ]
  },
  {
   "cell_type": "code",
   "execution_count": 27,
   "id": "a6b6808d-6669-4793-864e-65a38f781f7b",
   "metadata": {},
   "outputs": [
    {
     "name": "stdout",
     "output_type": "stream",
     "text": [
      "1\n",
      "2\n",
      "3\n"
     ]
    }
   ],
   "source": [
    "for x in arr:\n",
    "    print(x)"
   ]
  },
  {
   "cell_type": "code",
   "execution_count": 28,
   "id": "148a1e1f-76f8-444f-ba20-2ea4ae3d3e0b",
   "metadata": {},
   "outputs": [
    {
     "name": "stdout",
     "output_type": "stream",
     "text": [
      "[1 2 3]\n",
      "[4 5 6]\n"
     ]
    }
   ],
   "source": [
    "arr=np.array([[1,2,3],[4,5,6]])   #2d array\n",
    "for x in arr:\n",
    "    print(x)"
   ]
  },
  {
   "cell_type": "code",
   "execution_count": 29,
   "id": "61644716-aff7-4ed3-8c31-ac93aa024c1c",
   "metadata": {},
   "outputs": [
    {
     "name": "stdout",
     "output_type": "stream",
     "text": [
      "1\n",
      "2\n",
      "3\n",
      "4\n",
      "5\n",
      "6\n"
     ]
    }
   ],
   "source": [
    "arr=np.array([[1,2,3],[4,5,6]])  #2d to print scalar means one by one\n",
    "for x in arr:\n",
    "    for j in x:\n",
    "        print(j)"
   ]
  },
  {
   "cell_type": "code",
   "execution_count": 31,
   "id": "5f1bee7b-9976-4f73-b2ee-e7a581e10fa9",
   "metadata": {},
   "outputs": [
    {
     "name": "stdout",
     "output_type": "stream",
     "text": [
      "1\n",
      "2\n",
      "3\n",
      "4\n",
      "5\n",
      "6\n",
      "7\n",
      "8\n"
     ]
    }
   ],
   "source": [
    "arr=np.array([[[1,2],[3,4]],[[5,6],[7,8]]])    #short cut to print scalar values using nditer\n",
    "for x in np.nditer(arr):\n",
    "    print(x)"
   ]
  },
  {
   "cell_type": "markdown",
   "id": "7af911e8-92f5-42f6-933f-0edc9d7d575c",
   "metadata": {},
   "source": [
    "joining numpy arrays"
   ]
  },
  {
   "cell_type": "code",
   "execution_count": 33,
   "id": "56f9c561-608f-4220-aae3-745882adc248",
   "metadata": {},
   "outputs": [
    {
     "name": "stdout",
     "output_type": "stream",
     "text": [
      "[1 2 3 4 5 6]\n"
     ]
    }
   ],
   "source": [
    "arr1=np.array([1,2,3])\n",
    "arr2= np.array([4,5,6])\n",
    "arr = np.concatenate((arr1,arr2))\n",
    "print(arr)"
   ]
  },
  {
   "cell_type": "code",
   "execution_count": 34,
   "id": "53fbd6d6-7c31-452c-bf05-971cf231dd97",
   "metadata": {},
   "outputs": [
    {
     "ename": "AxisError",
     "evalue": "axis 1 is out of bounds for array of dimension 1",
     "output_type": "error",
     "traceback": [
      "\u001b[1;31m---------------------------------------------------------------------------\u001b[0m",
      "\u001b[1;31mAxisError\u001b[0m                                 Traceback (most recent call last)",
      "Cell \u001b[1;32mIn[34], line 1\u001b[0m\n\u001b[1;32m----> 1\u001b[0m np\u001b[38;5;241m.\u001b[39mconcatenate((arr1,arr2),axis\u001b[38;5;241m=\u001b[39m\u001b[38;5;241m1\u001b[39m)\n\u001b[0;32m      2\u001b[0m \u001b[38;5;28mprint\u001b[39m(arr)\n",
      "\u001b[1;31mAxisError\u001b[0m: axis 1 is out of bounds for array of dimension 1"
     ]
    }
   ],
   "source": [
    "np.concatenate((arr1,arr2),axis=1)\n",
    "print(arr)"
   ]
  },
  {
   "cell_type": "markdown",
   "id": "f1616091-7dff-4e02-a7ff-30b352920b90",
   "metadata": {},
   "source": [
    "Joining Arrays Using Stack Functions"
   ]
  },
  {
   "cell_type": "code",
   "execution_count": 44,
   "id": "4ef2b40e-6709-4327-8e8e-1fd861f30ab4",
   "metadata": {},
   "outputs": [
    {
     "name": "stdout",
     "output_type": "stream",
     "text": [
      "[[1 4]\n",
      " [2 5]\n",
      " [3 6]]\n"
     ]
    }
   ],
   "source": [
    "arr1 = np.array([1, 2, 3])\n",
    "arr2 = np.array([4, 5, 6])\n",
    "arr = np.stack((arr1, arr2), axis=1)\n",
    "print(arr)"
   ]
  },
  {
   "cell_type": "code",
   "execution_count": 46,
   "id": "a7e144f0-9768-451c-80eb-45655bbdd8a1",
   "metadata": {},
   "outputs": [
    {
     "name": "stdout",
     "output_type": "stream",
     "text": [
      "[1 2 3 4 5 6]\n"
     ]
    }
   ],
   "source": [
    "arr1 = np.array([1, 2, 3])\n",
    "arr2 = np.array([4, 5, 6])    #Stacking Along Rows\n",
    "arr = np.hstack((arr1, arr2))\n",
    "print(arr)"
   ]
  },
  {
   "cell_type": "code",
   "execution_count": 45,
   "id": "5ba0cb1b-168f-426b-8f45-81a3c01088d4",
   "metadata": {},
   "outputs": [
    {
     "name": "stdout",
     "output_type": "stream",
     "text": [
      "[[1 2 3]\n",
      " [4 5 6]]\n"
     ]
    }
   ],
   "source": [
    "arr1 = np.array([1, 2, 3])\n",
    "arr2 = np.array([4, 5, 6])    #Stacking Along colums\n",
    "arr = np.vstack((arr1, arr2))\n",
    "print(arr)"
   ]
  },
  {
   "cell_type": "code",
   "execution_count": 47,
   "id": "522b60fa-a5ec-4296-9c4f-7f81fe4d02bd",
   "metadata": {},
   "outputs": [
    {
     "name": "stdout",
     "output_type": "stream",
     "text": [
      "[[[1 4]\n",
      "  [2 5]\n",
      "  [3 6]]]\n"
     ]
    }
   ],
   "source": [
    "arr1 = np.array([1, 2, 3])\n",
    "arr2 = np.array([4, 5, 6])    #Stacking Along height depth\n",
    "arr = np.dstack((arr1, arr2))\n",
    "print(arr)"
   ]
  },
  {
   "cell_type": "markdown",
   "id": "80ab206d-7f14-46f0-8b15-6527e0f1058c",
   "metadata": {},
   "source": [
    "Splitting NumPy Arrays"
   ]
  },
  {
   "cell_type": "code",
   "execution_count": null,
   "id": "2adfcdd7-7e45-4ecc-921e-d40b4e6a11cd",
   "metadata": {},
   "outputs": [],
   "source": []
  },
  {
   "cell_type": "code",
   "execution_count": 36,
   "id": "d0d7ce5c-30e1-4fcd-898a-f45dbff34bdf",
   "metadata": {},
   "outputs": [
    {
     "name": "stdout",
     "output_type": "stream",
     "text": [
      "[1 2]\n",
      "[3 4]\n",
      "[5 6]\n"
     ]
    }
   ],
   "source": [
    "arr=np.array([1,2,3,4,5,6])\n",
    "newarr=np.array_split(arr,3)     #splits the array \n",
    "print(newarr[0])\n",
    "print(newarr[1])\n",
    "print(newarr[2])"
   ]
  },
  {
   "cell_type": "markdown",
   "id": "550ff037-0665-4669-9fa6-1a6c5b539d95",
   "metadata": {},
   "source": [
    "array manipulation functions"
   ]
  },
  {
   "cell_type": "code",
   "execution_count": 21,
   "id": "8cdbc21c-2177-48e9-9fb0-5bdcb0c4497c",
   "metadata": {},
   "outputs": [
    {
     "data": {
      "text/plain": [
       "array([[1, 2, 3],\n",
       "       [4, 5, 6]])"
      ]
     },
     "execution_count": 21,
     "metadata": {},
     "output_type": "execute_result"
    }
   ],
   "source": [
    "#reshape\n",
    "a1=np.array([1,2,3,4,5,6])\n",
    "reshaped=np.reshape(a1,(2,3))\n",
    "reshaped"
   ]
  },
  {
   "cell_type": "code",
   "execution_count": 26,
   "id": "89e38bb9-dec2-4f47-a933-8b81bf46260f",
   "metadata": {},
   "outputs": [
    {
     "name": "stdout",
     "output_type": "stream",
     "text": [
      "[1 2 3 4]\n",
      "[1 2 3 4]\n"
     ]
    }
   ],
   "source": [
    "#flattened an array\n",
    "f1=np.array([[1,2],[3,4]])    #convert multi d to 1d\n",
    "flattened=np.ravel(f1)\n",
    "print(flattened)\n",
    "#or\n",
    "flattened2=np.reshape(f1,-1)  \n",
    "print(flattened2)"
   ]
  },
  {
   "cell_type": "code",
   "execution_count": 27,
   "id": "08656af5-0a5f-49bf-853b-ae03b5a15c10",
   "metadata": {},
   "outputs": [
    {
     "data": {
      "text/plain": [
       "array([[1, 3],\n",
       "       [2, 4]])"
      ]
     },
     "execution_count": 27,
     "metadata": {},
     "output_type": "execute_result"
    }
   ],
   "source": [
    "#transpose an array\n",
    "e1= np.array([[1,2],[3,4]])      #transpose the array\n",
    "transposed=np.transpose(e1)\n",
    "transposed"
   ]
  },
  {
   "cell_type": "code",
   "execution_count": 11,
   "id": "4e0cb1d7-26f4-4114-8277-916a9100f0a9",
   "metadata": {},
   "outputs": [
    {
     "data": {
      "text/plain": [
       "array([[1., 0., 0., 0.],\n",
       "       [0., 1., 0., 0.],\n",
       "       [0., 0., 1., 0.],\n",
       "       [0., 0., 0., 1.]])"
      ]
     },
     "execution_count": 11,
     "metadata": {},
     "output_type": "execute_result"
    }
   ],
   "source": [
    "identity_mat=np.eye(4)\n",
    "identity_mat"
   ]
  },
  {
   "cell_type": "markdown",
   "id": "e137c98a-7aae-4c44-9ffd-c8f1742e1c42",
   "metadata": {},
   "source": [
    "mathematical functions"
   ]
  },
  {
   "cell_type": "code",
   "execution_count": 33,
   "id": "1e5191c4-ecb1-4723-be55-e23b54d7e9d8",
   "metadata": {},
   "outputs": [
    {
     "name": "stdout",
     "output_type": "stream",
     "text": [
      "[3 4 5 6]\n"
     ]
    },
    {
     "data": {
      "text/plain": [
       "array([3, 4, 5, 6])"
      ]
     },
     "execution_count": 33,
     "metadata": {},
     "output_type": "execute_result"
    }
   ],
   "source": [
    "g=np.array([1,2,3,4])\n",
    "added=np.add(g,2)\n",
    "print(added)\n",
    "#or\n",
    "added=g+2\n",
    "added"
   ]
  },
  {
   "cell_type": "code",
   "execution_count": null,
   "id": "c0cedcf6-99b4-45f1-bc6f-849324270096",
   "metadata": {},
   "outputs": [],
   "source": []
  },
  {
   "cell_type": "code",
   "execution_count": 34,
   "id": "8db7a116-59c2-4464-8647-28de74267750",
   "metadata": {},
   "outputs": [
    {
     "data": {
      "text/plain": [
       "array([ 1,  4,  9, 16])"
      ]
     },
     "execution_count": 34,
     "metadata": {},
     "output_type": "execute_result"
    }
   ],
   "source": [
    "#square each element\n",
    "squared=np.power(g,2)\n",
    "squared"
   ]
  },
  {
   "cell_type": "code",
   "execution_count": 35,
   "id": "b700f914-9f81-46bb-a9a1-593c6aeb4545",
   "metadata": {},
   "outputs": [
    {
     "data": {
      "text/plain": [
       "array([1.        , 1.41421356, 1.73205081, 2.        ])"
      ]
     },
     "execution_count": 35,
     "metadata": {},
     "output_type": "execute_result"
    }
   ],
   "source": [
    "#squareroot of each element\n",
    "sqrt=np.sqrt(g)\n",
    "sqrt"
   ]
  },
  {
   "cell_type": "markdown",
   "id": "0ce706ca-7efb-48a3-9268-97ee9808eaff",
   "metadata": {},
   "source": [
    "stastistical functions"
   ]
  },
  {
   "cell_type": "code",
   "execution_count": 22,
   "id": "19291793-16af-4bde-ade6-e5e60094b619",
   "metadata": {},
   "outputs": [
    {
     "data": {
      "text/plain": [
       "np.float64(2.5)"
      ]
     },
     "execution_count": 22,
     "metadata": {},
     "output_type": "execute_result"
    }
   ],
   "source": [
    "s=np.array([1,2,3,4])\n",
    "mean=np.mean(s)\n",
    "mean"
   ]
  },
  {
   "cell_type": "code",
   "execution_count": 38,
   "id": "7595cd74-ec7b-4060-9599-78d2fc02916b",
   "metadata": {},
   "outputs": [
    {
     "data": {
      "text/plain": [
       "np.float64(1.118033988749895)"
      ]
     },
     "execution_count": 38,
     "metadata": {},
     "output_type": "execute_result"
    }
   ],
   "source": [
    "#standard deviatuion of ana array\n",
    "stddev=np.std(s)\n",
    "stddev"
   ]
  },
  {
   "cell_type": "code",
   "execution_count": 39,
   "id": "5098acf7-ee0c-4742-9bee-56be20f4c09b",
   "metadata": {},
   "outputs": [
    {
     "data": {
      "text/plain": [
       "np.int64(1)"
      ]
     },
     "execution_count": 39,
     "metadata": {},
     "output_type": "execute_result"
    }
   ],
   "source": [
    "#minimum element in ana array\n",
    "minimum=np.min(s)\n",
    "minimum"
   ]
  },
  {
   "cell_type": "code",
   "execution_count": 40,
   "id": "4c254ab1-15c4-41df-aedf-b91afe15d840",
   "metadata": {},
   "outputs": [
    {
     "data": {
      "text/plain": [
       "np.int64(4)"
      ]
     },
     "execution_count": 40,
     "metadata": {},
     "output_type": "execute_result"
    }
   ],
   "source": [
    "#maximum value in ana array\n",
    "maximum=max(s)\n",
    "maximum"
   ]
  },
  {
   "cell_type": "code",
   "execution_count": 23,
   "id": "40f007b7-4007-496e-9079-52f9504292d2",
   "metadata": {},
   "outputs": [
    {
     "data": {
      "text/plain": [
       "np.int64(10)"
      ]
     },
     "execution_count": 23,
     "metadata": {},
     "output_type": "execute_result"
    }
   ],
   "source": [
    "total=sum(s)\n",
    "total"
   ]
  },
  {
   "cell_type": "code",
   "execution_count": null,
   "id": "aa401369-51f3-469b-8dfd-af6c52ef9038",
   "metadata": {},
   "outputs": [],
   "source": []
  }
 ],
 "metadata": {
  "kernelspec": {
   "display_name": "Python 3 (ipykernel)",
   "language": "python",
   "name": "python3"
  },
  "language_info": {
   "codemirror_mode": {
    "name": "ipython",
    "version": 3
   },
   "file_extension": ".py",
   "mimetype": "text/x-python",
   "name": "python",
   "nbconvert_exporter": "python",
   "pygments_lexer": "ipython3",
   "version": "3.13.5"
  }
 },
 "nbformat": 4,
 "nbformat_minor": 5
}
